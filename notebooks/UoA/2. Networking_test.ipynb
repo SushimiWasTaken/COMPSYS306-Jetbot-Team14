{
 "cells": [
  {
   "cell_type": "markdown",
   "id": "opening-worker",
   "metadata": {},
   "source": [
    "# Notebook to test networking and install a few nice to have packages into the docker container\n",
    "# Written by Akshat Bisht (a.bisht@auckland.ac.nz)"
   ]
  },
  {
   "cell_type": "markdown",
   "id": "academic-thirty",
   "metadata": {},
   "source": [
    "1. Test DNS configuration is correct"
   ]
  },
  {
   "cell_type": "code",
   "execution_count": 1,
   "id": "adjusted-smooth",
   "metadata": {},
   "outputs": [
    {
     "name": "stdout",
     "output_type": "stream",
     "text": [
      "search uoa.auckland.ac.nz wlan.auckland.ac.nz\n",
      "nameserver 130.216.1.0\n",
      "nameserver 130.216.1.1\n",
      "nameserver 8.8.8.8\n",
      "nameserver 8.8.4.4\n"
     ]
    }
   ],
   "source": [
    "!cat /etc/resolv.conf"
   ]
  },
  {
   "cell_type": "markdown",
   "id": "artificial-first",
   "metadata": {},
   "source": [
    "# Above should yield:\n",
    "> \n",
    "search uoa.auckland.ac.nz wlan.auckland.ac.nz\n",
    "nameserver 130.216.1.0\n",
    "nameserver 130.216.1.1\n",
    "nameserver 8.8.8.8\n",
    "nameserver 8.8.4.4"
   ]
  },
  {
   "cell_type": "markdown",
   "id": "facial-antenna",
   "metadata": {},
   "source": [
    "2. Apt Update"
   ]
  },
  {
   "cell_type": "code",
   "execution_count": 1,
   "id": "apart-session",
   "metadata": {},
   "outputs": [
    {
     "name": "stdout",
     "output_type": "stream",
     "text": [
      "Hit:1 http://ports.ubuntu.com/ubuntu-ports bionic InRelease               \u001b[0mm\u001b[33m\u001b[33m\u001b[33m\u001b[33m\u001b[33m\u001b[33m\u001b[33m\u001b[33m\u001b[33m\n",
      "Get:2 https://deb.nodesource.com/node_10.x bionic InRelease [4584 B]    \u001b[0m\n",
      "Get:3 http://ports.ubuntu.com/ubuntu-ports bionic-updates InRelease [88.7 kB]  \u001b[0m\u001b[33m\n",
      "Get:4 http://ports.ubuntu.com/ubuntu-ports bionic-backports InRelease [74.6 kB]\u001b[0m\u001b[33m\u001b[33m\u001b[33m\u001b[33m\n",
      "Get:5 https://deb.nodesource.com/node_10.x bionic/main arm64 Packages [767 B]  \u001b[0m\u001b[33m\n",
      "Get:6 http://ports.ubuntu.com/ubuntu-ports bionic-security InRelease [88.7 kB] \u001b[0m\u001b[33m\u001b[33m\n",
      "Get:7 http://ports.ubuntu.com/ubuntu-ports bionic-updates/restricted arm64 Packages [5451 B]m\n",
      "Get:8 http://ports.ubuntu.com/ubuntu-ports bionic-updates/universe arm64 Packages [2064 kB]\n",
      "Get:9 http://ports.ubuntu.com/ubuntu-ports bionic-updates/multiverse arm64 Packages [5351 B]m\u001b[33m\u001b[33m\u001b[33m\n",
      "Get:10 http://ports.ubuntu.com/ubuntu-ports bionic-updates/main arm64 Packages [2018 kB]\n",
      "Get:11 http://ports.ubuntu.com/ubuntu-ports bionic-backports/universe arm64 Packages [12.5 kB]\n",
      "Get:12 http://ports.ubuntu.com/ubuntu-ports bionic-backports/main arm64 Packages [12.2 kB]\n",
      "Get:13 http://ports.ubuntu.com/ubuntu-ports bionic-security/main arm64 Packages [1639 kB]\n",
      "Get:14 http://ports.ubuntu.com/ubuntu-ports bionic-security/universe arm64 Packages [1367 kB]\n",
      "Get:15 http://ports.ubuntu.com/ubuntu-ports bionic-security/restricted arm64 Packages [4778 B][33m\n",
      "Get:16 http://ports.ubuntu.com/ubuntu-ports bionic-security/multiverse arm64 Packages [2761 B]\n",
      "Fetched 7388 kB in 12s (641 kB/s)                                              \u001b[0m\u001b[33m\u001b[33m\n",
      "Reading package lists... Done\n",
      "Building dependency tree       \n",
      "Reading state information... Done\n",
      "159 packages can be upgraded. Run 'apt list --upgradable' to see them.\n"
     ]
    }
   ],
   "source": [
    "!apt update"
   ]
  },
  {
   "cell_type": "markdown",
   "id": "broken-helmet",
   "metadata": {},
   "source": [
    "# Above should pass without errors"
   ]
  },
  {
   "cell_type": "markdown",
   "id": "accessory-commission",
   "metadata": {},
   "source": [
    "3. Install some useful packages"
   ]
  },
  {
   "cell_type": "code",
   "execution_count": 3,
   "id": "exempt-portfolio",
   "metadata": {},
   "outputs": [
    {
     "name": "stdout",
     "output_type": "stream",
     "text": [
      "Reading package lists... Done\n",
      "Building dependency tree       \n",
      "Reading state information... Done\n",
      "nano is already the newest version (2.9.3-2).\n",
      "iputils-ping is already the newest version (3:20161105-1ubuntu3).\n",
      "0 upgraded, 0 newly installed, 0 to remove and 159 not upgraded.\n"
     ]
    }
   ],
   "source": [
    "!apt install iputils-ping nano"
   ]
  },
  {
   "cell_type": "markdown",
   "id": "equivalent-jamaica",
   "metadata": {},
   "source": [
    "# Wait for above to complete"
   ]
  }
 ],
 "metadata": {
  "kernelspec": {
   "display_name": "Python 3",
   "language": "python",
   "name": "python3"
  },
  "language_info": {
   "codemirror_mode": {
    "name": "ipython",
    "version": 3
   },
   "file_extension": ".py",
   "mimetype": "text/x-python",
   "name": "python",
   "nbconvert_exporter": "python",
   "pygments_lexer": "ipython3",
   "version": "3.6.9"
  }
 },
 "nbformat": 4,
 "nbformat_minor": 5
}
