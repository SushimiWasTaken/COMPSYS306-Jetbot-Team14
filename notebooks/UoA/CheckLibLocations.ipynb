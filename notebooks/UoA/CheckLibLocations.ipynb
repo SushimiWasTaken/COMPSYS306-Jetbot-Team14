{
 "cells": [
  {
   "cell_type": "markdown",
   "id": "exciting-scott",
   "metadata": {},
   "source": [
    "# This script shows the path for the Python libraries\n",
    "# Written by Akshat Bisht (a.bisht@auckland.ac.nz)"
   ]
  },
  {
   "cell_type": "code",
   "execution_count": 3,
   "id": "thorough-answer",
   "metadata": {},
   "outputs": [
    {
     "name": "stdout",
     "output_type": "stream",
     "text": [
      "/workspace/jetbot/notebooks/UoA\n"
     ]
    }
   ],
   "source": [
    "import sys\n",
    "import os\n",
    "module_path = os.path.abspath(os.path.join('.'))\n",
    "print(module_path)\n",
    "sys.path.append(module_path+\"/motion_road_following/\")"
   ]
  },
  {
   "cell_type": "code",
   "execution_count": 2,
   "id": "practical-treat",
   "metadata": {},
   "outputs": [
    {
     "name": "stdout",
     "output_type": "stream",
     "text": [
      "['/usr/lib/python36.zip', '/usr/lib/python3.6', '/usr/lib/python3.6/lib-dynload', '', '/usr/local/lib/python3.6/dist-packages', '/usr/local/lib/python3.6/dist-packages/torchvision-0.8.0a0+45f960c-py3.6-linux-aarch64.egg', '/usr/local/lib/python3.6/dist-packages/Pillow-8.0.1-py3.6-linux-aarch64.egg', '/usr/local/lib/python3.6/dist-packages/torchaudio-0.7.0a0+ac17b64-py3.6-linux-aarch64.egg', '/root/jupyter_clickable_image_widget', '/usr/local/lib/python3.6/dist-packages/torch2trt-0.1.0-py3.6.egg', '/usr/local/lib/python3.6/dist-packages/jetbot-0.4.3-py3.6.egg', '/usr/local/lib/python3.6/dist-packages/Adafruit_SSD1306-1.6.2-py3.6.egg', '/usr/local/lib/python3.6/dist-packages/Adafruit_MotorHAT-1.4.0-py3.6.egg', '/usr/local/lib/python3.6/dist-packages/Adafruit_GPIO-1.0.4-py3.6.egg', '/usr/local/lib/python3.6/dist-packages/spidev-3.5-py3.6-linux-aarch64.egg', '/usr/local/lib/python3.6/dist-packages/Adafruit_PureIO-1.1.8-py3.6.egg', '/usr/lib/python3/dist-packages', '/usr/lib/python3.6/dist-packages', '/usr/local/lib/python3.6/dist-packages/IPython/extensions', '/root/.ipython']\n"
     ]
    }
   ],
   "source": [
    "print(sys.path)"
   ]
  },
  {
   "cell_type": "markdown",
   "id": "automatic-crack",
   "metadata": {},
   "source": [
    "Of these, we should use the following location for storing our custom libraries\n",
    "> /usr/lib/python3.6/dist-packages\n"
   ]
  }
 ],
 "metadata": {
  "kernelspec": {
   "display_name": "Python 3",
   "language": "python",
   "name": "python3"
  },
  "language_info": {
   "codemirror_mode": {
    "name": "ipython",
    "version": 3
   },
   "file_extension": ".py",
   "mimetype": "text/x-python",
   "name": "python",
   "nbconvert_exporter": "python",
   "pygments_lexer": "ipython3",
   "version": "3.6.9"
  }
 },
 "nbformat": 4,
 "nbformat_minor": 5
}
