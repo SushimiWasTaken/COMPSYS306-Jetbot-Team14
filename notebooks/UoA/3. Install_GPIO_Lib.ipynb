{
 "cells": [
  {
   "cell_type": "code",
   "execution_count": 1,
   "id": "unknown-denmark",
   "metadata": {},
   "outputs": [
    {
     "name": "stdout",
     "output_type": "stream",
     "text": [
      "nameserver 130.216.1.0\n",
      "nameserver 130.216.1.1\n",
      "nameserver 8.8.8.8\n",
      "nameserver 8.8.4.4\n"
     ]
    }
   ],
   "source": [
    "!cat /etc/resolv.conf"
   ]
  },
  {
   "cell_type": "code",
   "execution_count": 2,
   "id": "chicken-liabilities",
   "metadata": {},
   "outputs": [
    {
     "name": "stdout",
     "output_type": "stream",
     "text": [
      "Requirement already satisfied: Jetson.GPIO in /usr/local/lib/python3.6/dist-packages\n"
     ]
    }
   ],
   "source": [
    "!pip3 install Jetson.GPIO"
   ]
  },
  {
   "cell_type": "code",
   "execution_count": 5,
   "id": "nutritional-improvement",
   "metadata": {},
   "outputs": [
    {
     "name": "stdout",
     "output_type": "stream",
     "text": [
      "/usr/local/lib/python3.6/dist-packages/Jetson/GPIO/99-gpio.rules\n"
     ]
    }
   ],
   "source": [
    "! find / -name \"99-gpio.rules\""
   ]
  },
  {
   "cell_type": "code",
   "execution_count": 6,
   "id": "flying-klein",
   "metadata": {},
   "outputs": [],
   "source": [
    "!cp /usr/local/lib/python3.6/dist-packages/Jetson/GPIO/99-gpio.rules /etc/udev/rules.d"
   ]
  },
  {
   "cell_type": "code",
   "execution_count": 7,
   "id": "abandoned-cause",
   "metadata": {},
   "outputs": [],
   "source": [
    "!udevadm control --reload-rules && udevadm trigger"
   ]
  },
  {
   "cell_type": "code",
   "execution_count": 3,
   "id": "restricted-survival",
   "metadata": {},
   "outputs": [],
   "source": [
    "!cp ./lfrobot.py /usr/lib/python3.6/dist-packages/lfrobot.py"
   ]
  },
  {
   "cell_type": "code",
   "execution_count": null,
   "id": "premier-aruba",
   "metadata": {},
   "outputs": [],
   "source": []
  }
 ],
 "metadata": {
  "kernelspec": {
   "display_name": "Python 3",
   "language": "python",
   "name": "python3"
  },
  "language_info": {
   "codemirror_mode": {
    "name": "ipython",
    "version": 3
   },
   "file_extension": ".py",
   "mimetype": "text/x-python",
   "name": "python",
   "nbconvert_exporter": "python",
   "pygments_lexer": "ipython3",
   "version": "3.6.9"
  }
 },
 "nbformat": 4,
 "nbformat_minor": 5
}
