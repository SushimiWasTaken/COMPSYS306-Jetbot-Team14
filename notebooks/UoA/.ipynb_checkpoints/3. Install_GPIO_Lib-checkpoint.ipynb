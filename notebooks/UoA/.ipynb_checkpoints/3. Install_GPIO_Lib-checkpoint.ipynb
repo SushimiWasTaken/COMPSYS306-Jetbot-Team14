{
 "cells": [
  {
   "cell_type": "code",
   "execution_count": 2,
   "id": "numerical-safety",
   "metadata": {},
   "outputs": [
    {
     "name": "stdout",
     "output_type": "stream",
     "text": [
      "nameserver 130.216.1.0\n",
      "nameserver 130.216.1.1\n",
      "nameserver 8.8.8.8\n",
      "nameserver 8.8.4.4\n"
     ]
    }
   ],
   "source": [
    "!cat /etc/resolv.conf"
   ]
  },
  {
   "cell_type": "code",
   "execution_count": 4,
   "id": "scientific-formation",
   "metadata": {},
   "outputs": [
    {
     "name": "stdout",
     "output_type": "stream",
     "text": [
      "Collecting Jetson.GPIO\n",
      "  Downloading https://files.pythonhosted.org/packages/dd/80/dea6e77f5dd8f8bc4462f8669fe0f8bb6af276873d19e09e54b35e49c922/Jetson.GPIO-2.0.20.tar.gz\n",
      "Building wheels for collected packages: Jetson.GPIO\n",
      "  Running setup.py bdist_wheel for Jetson.GPIO ... \u001b[?25ldone\n",
      "\u001b[?25h  Stored in directory: /root/.cache/pip/wheels/80/c9/66/8d8096c8b8f355ebbce2123780a850bfcd75f8a598052bf2a3\n",
      "Successfully built Jetson.GPIO\n",
      "Installing collected packages: Jetson.GPIO\n",
      "Successfully installed Jetson.GPIO-2.0.20\n"
     ]
    }
   ],
   "source": [
    "!pip3 install Jetson.GPIO"
   ]
  },
  {
   "cell_type": "code",
   "execution_count": 5,
   "id": "intensive-twist",
   "metadata": {},
   "outputs": [
    {
     "name": "stdout",
     "output_type": "stream",
     "text": [
      "/usr/local/lib/python3.6/dist-packages/Jetson/GPIO/99-gpio.rules\n"
     ]
    }
   ],
   "source": [
    "! find / -name \"99-gpio.rules\""
   ]
  },
  {
   "cell_type": "code",
   "execution_count": 6,
   "id": "technological-battery",
   "metadata": {},
   "outputs": [],
   "source": [
    "!cp /usr/local/lib/python3.6/dist-packages/Jetson/GPIO/99-gpio.rules /etc/udev/rules.d"
   ]
  },
  {
   "cell_type": "code",
   "execution_count": 7,
   "id": "confused-nylon",
   "metadata": {},
   "outputs": [],
   "source": [
    "!udevadm control --reload-rules && udevadm trigger"
   ]
  },
  {
   "cell_type": "code",
   "execution_count": null,
   "id": "virgin-aquatic",
   "metadata": {},
   "outputs": [],
   "source": []
  }
 ],
 "metadata": {
  "kernelspec": {
   "display_name": "Python 3",
   "language": "python",
   "name": "python3"
  },
  "language_info": {
   "codemirror_mode": {
    "name": "ipython",
    "version": 3
   },
   "file_extension": ".py",
   "mimetype": "text/x-python",
   "name": "python",
   "nbconvert_exporter": "python",
   "pygments_lexer": "ipython3",
   "version": "3.6.9"
  }
 },
 "nbformat": 4,
 "nbformat_minor": 5
}
