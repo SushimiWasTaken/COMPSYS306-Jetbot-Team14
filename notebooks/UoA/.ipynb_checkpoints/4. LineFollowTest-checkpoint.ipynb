{
 "cells": [
  {
   "cell_type": "markdown",
   "id": "mathematical-invalid",
   "metadata": {},
   "source": [
    "# Set of examples on how to use the Line Following Robot Library\n",
    "# Written by Akshat Bisht (a.bisht@auckland.ac.nz)"
   ]
  },
  {
   "cell_type": "markdown",
   "id": "billion-guest",
   "metadata": {},
   "source": [
    "1. Import the Line Following Robot Library"
   ]
  },
  {
   "cell_type": "code",
   "execution_count": 1,
   "id": "worldwide-ticket",
   "metadata": {},
   "outputs": [],
   "source": [
    "import lfrobot"
   ]
  },
  {
   "cell_type": "markdown",
   "id": "responsible-career",
   "metadata": {},
   "source": [
    "2. Initialise before using"
   ]
  },
  {
   "cell_type": "code",
   "execution_count": 2,
   "id": "devoted-evanescence",
   "metadata": {},
   "outputs": [
    {
     "name": "stdout",
     "output_type": "stream",
     "text": [
      "{'P1_REVISION': 1, 'RAM': '4096M, 2048M', 'REVISION': 'Unknown', 'TYPE': 'Jetson Nano', 'MANUFACTURER': 'NVIDIA', 'PROCESSOR': 'ARM A57'}\n",
      "Initilising Line Following Jetbot\n",
      "stop0\n",
      "stop1\n"
     ]
    }
   ],
   "source": [
    "lfrobot.lfInit()"
   ]
  },
  {
   "cell_type": "markdown",
   "id": "digital-blame",
   "metadata": {},
   "source": [
    "The robot starts in stopped mode. \n",
    "3. To start the robot motion use:"
   ]
  },
  {
   "cell_type": "code",
   "execution_count": 3,
   "id": "geological-keyboard",
   "metadata": {},
   "outputs": [],
   "source": [
    "lfrobot.lfStart()"
   ]
  },
  {
   "cell_type": "markdown",
   "id": "centered-xerox",
   "metadata": {},
   "source": [
    "4. To stop the robot"
   ]
  },
  {
   "cell_type": "code",
   "execution_count": 4,
   "id": "dominant-square",
   "metadata": {},
   "outputs": [],
   "source": [
    "lfrobot.lfStop()"
   ]
  },
  {
   "cell_type": "markdown",
   "id": "metropolitan-conditions",
   "metadata": {},
   "source": [
    "5. To change the speed of the robot's forward motion"
   ]
  },
  {
   "cell_type": "code",
   "execution_count": 11,
   "id": "suspected-physics",
   "metadata": {},
   "outputs": [],
   "source": [
    "#default speed = 0.15\n",
    "speed = 0.15 #speed should be between 0.1 to 0.15. Faster speeds can cause the robot to miss turns or overshoot\n",
    "\n",
    "lfrobot.lfSpeed(speed)"
   ]
  },
  {
   "cell_type": "markdown",
   "id": "wooden-brass",
   "metadata": {},
   "source": [
    "6. To change the speed of the robot's turning \n",
    "# use this in case the robot is not fast enough to negociate turns"
   ]
  },
  {
   "cell_type": "code",
   "execution_count": null,
   "id": "figured-background",
   "metadata": {},
   "outputs": [],
   "source": [
    "#default turn speed = 0.25\n",
    "turnSpeed = 0.25 #turn speeds between 0.15 and 0.25 work best\n",
    "lfrobot.lfTurnSpeed(turnSpeed)"
   ]
  },
  {
   "cell_type": "markdown",
   "id": "sorted-wales",
   "metadata": {},
   "source": [
    "7. Deinitialise the lfrobot (this frees up the sensor ports and stops the robot motion)"
   ]
  },
  {
   "cell_type": "code",
   "execution_count": 5,
   "id": "liable-miller",
   "metadata": {},
   "outputs": [
    {
     "name": "stdout",
     "output_type": "stream",
     "text": [
      "Deinitialised\n"
     ]
    }
   ],
   "source": [
    "lfrobot.lfDeinit()"
   ]
  },
  {
   "cell_type": "code",
   "execution_count": null,
   "id": "after-ukraine",
   "metadata": {},
   "outputs": [],
   "source": []
  }
 ],
 "metadata": {
  "kernelspec": {
   "display_name": "Python 3",
   "language": "python",
   "name": "python3"
  },
  "language_info": {
   "codemirror_mode": {
    "name": "ipython",
    "version": 3
   },
   "file_extension": ".py",
   "mimetype": "text/x-python",
   "name": "python",
   "nbconvert_exporter": "python",
   "pygments_lexer": "ipython3",
   "version": "3.6.9"
  }
 },
 "nbformat": 4,
 "nbformat_minor": 5
}
