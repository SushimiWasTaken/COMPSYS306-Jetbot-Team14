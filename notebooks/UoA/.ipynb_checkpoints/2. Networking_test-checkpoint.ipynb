{
 "cells": [
  {
   "cell_type": "markdown",
   "id": "hydraulic-spine",
   "metadata": {},
   "source": [
    "# Notebook to test networking and install a few nice to have packages into the docker container\n",
    "# Written by Akshat Bisht (a.bisht@auckland.ac.nz)"
   ]
  },
  {
   "cell_type": "markdown",
   "id": "grand-clearance",
   "metadata": {},
   "source": [
    "1. Test DNS configuration is correct"
   ]
  },
  {
   "cell_type": "code",
   "execution_count": 1,
   "id": "sorted-messenger",
   "metadata": {},
   "outputs": [
    {
     "name": "stdout",
     "output_type": "stream",
     "text": [
      "search uoa.auckland.ac.nz wlan.auckland.ac.nz\n",
      "nameserver 130.216.1.0\n",
      "nameserver 130.216.1.1\n",
      "nameserver 8.8.8.8\n",
      "nameserver 8.8.4.4\n"
     ]
    }
   ],
   "source": [
    "!cat /etc/resolv.conf"
   ]
  },
  {
   "cell_type": "markdown",
   "id": "right-denver",
   "metadata": {},
   "source": [
    "# Above should yield:\n",
    "> \n",
    "search uoa.auckland.ac.nz wlan.auckland.ac.nz\n",
    "nameserver 130.216.1.0\n",
    "nameserver 130.216.1.1\n",
    "nameserver 8.8.8.8\n",
    "nameserver 8.8.4.4"
   ]
  },
  {
   "cell_type": "markdown",
   "id": "spectacular-recipient",
   "metadata": {},
   "source": [
    "2. Apt Update"
   ]
  },
  {
   "cell_type": "code",
   "execution_count": null,
   "id": "laughing-captain",
   "metadata": {},
   "outputs": [],
   "source": [
    "!apt update"
   ]
  },
  {
   "cell_type": "markdown",
   "id": "configured-basketball",
   "metadata": {},
   "source": [
    "# Above should pass without errors"
   ]
  },
  {
   "cell_type": "markdown",
   "id": "crucial-hammer",
   "metadata": {},
   "source": [
    "3. Install some useful packages"
   ]
  },
  {
   "cell_type": "code",
   "execution_count": null,
   "id": "returning-turkey",
   "metadata": {},
   "outputs": [],
   "source": [
    "!apt install iputils-ping nano"
   ]
  },
  {
   "cell_type": "markdown",
   "id": "favorite-identification",
   "metadata": {},
   "source": [
    "# Wait for above to complete"
   ]
  }
 ],
 "metadata": {
  "kernelspec": {
   "display_name": "Python 3",
   "language": "python",
   "name": "python3"
  },
  "language_info": {
   "codemirror_mode": {
    "name": "ipython",
    "version": 3
   },
   "file_extension": ".py",
   "mimetype": "text/x-python",
   "name": "python",
   "nbconvert_exporter": "python",
   "pygments_lexer": "ipython3",
   "version": "3.6.9"
  }
 },
 "nbformat": 4,
 "nbformat_minor": 5
}
